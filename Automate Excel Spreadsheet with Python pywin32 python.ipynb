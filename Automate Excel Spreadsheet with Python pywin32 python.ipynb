{
 "cells": [
  {
   "cell_type": "code",
   "execution_count": null,
   "id": "33e5e5f5",
   "metadata": {},
   "outputs": [],
   "source": [
    "# https://pypi.org/project/pywin32/"
   ]
  },
  {
   "cell_type": "code",
   "execution_count": 8,
   "id": "ce0d6253",
   "metadata": {},
   "outputs": [
    {
     "data": {
      "text/plain": [
       "'228'"
      ]
     },
     "execution_count": 8,
     "metadata": {},
     "output_type": "execute_result"
    }
   ],
   "source": [
    "import os\n",
    "import distutils.sysconfig\n",
    "\n",
    "pth = distutils.sysconfig.get_python_lib(plat_specific=1)\n",
    "ver = open(os.path.join(pth, \"pywin32.version.txt\")).read().strip()\n",
    "ver"
   ]
  },
  {
   "cell_type": "code",
   "execution_count": 1,
   "id": "8e4b7b62",
   "metadata": {},
   "outputs": [
    {
     "name": "stdout",
     "output_type": "stream",
     "text": [
      "Requirement already satisfied: pywin32 in c:\\users\\pc\\anaconda3\\lib\\site-packages (228)\n"
     ]
    }
   ],
   "source": [
    "!pip install pywin32"
   ]
  },
  {
   "cell_type": "code",
   "execution_count": 2,
   "id": "4138b138",
   "metadata": {},
   "outputs": [],
   "source": [
    "import win32com.client as win32\n",
    "import os"
   ]
  },
  {
   "cell_type": "code",
   "execution_count": 3,
   "id": "458582f8",
   "metadata": {},
   "outputs": [],
   "source": [
    "x1App = win32.Dispatch('Excel.Application') #create a application instances in dispatch we provide the appliaction name"
   ]
  },
  {
   "cell_type": "code",
   "execution_count": 42,
   "id": "efc07427",
   "metadata": {},
   "outputs": [],
   "source": [
    "x1App.Visible = True #its launch our application "
   ]
  },
  {
   "cell_type": "markdown",
   "id": "ae4f6014",
   "metadata": {},
   "source": [
    "# Create a New Excel Workbook"
   ]
  },
  {
   "cell_type": "code",
   "execution_count": 43,
   "id": "09c675b5",
   "metadata": {},
   "outputs": [],
   "source": [
    "wb = x1App.Workbooks.Add() #create a new instance of workbook (wb => workbook)"
   ]
  },
  {
   "cell_type": "code",
   "execution_count": 44,
   "id": "4c909571",
   "metadata": {},
   "outputs": [
    {
     "data": {
      "text/plain": [
       "'Book4'"
      ]
     },
     "execution_count": 44,
     "metadata": {},
     "output_type": "execute_result"
    }
   ],
   "source": [
    "wb.name"
   ]
  },
  {
   "cell_type": "markdown",
   "id": "d0302c27",
   "metadata": {},
   "source": [
    "# Save the Excel File"
   ]
  },
  {
   "cell_type": "code",
   "execution_count": 45,
   "id": "86cc8953",
   "metadata": {},
   "outputs": [],
   "source": [
    "wb.SaveAs(os.path.join(os.getcwd(),'text.xlsx')) #getcwd() get working directory"
   ]
  },
  {
   "cell_type": "code",
   "execution_count": 46,
   "id": "b3f9c361",
   "metadata": {},
   "outputs": [
    {
     "data": {
      "text/plain": [
       "'C:\\\\Users\\\\PC\\\\Desktop\\\\Youtube Videos\\\\Wednesday\\\\text.xlsx'"
      ]
     },
     "execution_count": 46,
     "metadata": {},
     "output_type": "execute_result"
    }
   ],
   "source": [
    "wb.Fullname"
   ]
  },
  {
   "cell_type": "code",
   "execution_count": 47,
   "id": "90beae03",
   "metadata": {},
   "outputs": [],
   "source": [
    "ws_sheet1 = wb.WorkSheets('Sheet1') #reference to sheet1 object"
   ]
  },
  {
   "cell_type": "code",
   "execution_count": 48,
   "id": "6017318b",
   "metadata": {},
   "outputs": [
    {
     "data": {
      "text/plain": [
       "'Sheet1'"
      ]
     },
     "execution_count": 48,
     "metadata": {},
     "output_type": "execute_result"
    }
   ],
   "source": [
    "ws_sheet1.name"
   ]
  },
  {
   "cell_type": "code",
   "execution_count": 49,
   "id": "b2e7735e",
   "metadata": {},
   "outputs": [],
   "source": [
    "ws_sheet1.name = 'AI Sciences' #rename sheet name"
   ]
  },
  {
   "cell_type": "markdown",
   "id": "9be853c5",
   "metadata": {},
   "source": [
    "# Write Date"
   ]
  },
  {
   "cell_type": "code",
   "execution_count": 50,
   "id": "3b7785e0",
   "metadata": {},
   "outputs": [],
   "source": [
    "# in excel we have 2 methods to writes data to an excel \n",
    "# first method is cells method its take two paraemter row index and column index"
   ]
  },
  {
   "cell_type": "code",
   "execution_count": 51,
   "id": "d7c820b6",
   "metadata": {},
   "outputs": [],
   "source": [
    "ws_sheet1.Cells(1,'A').value = \"Cell A1\"\n",
    "ws_sheet1.Cells(1,'B').value = \"Cell B1\""
   ]
  },
  {
   "cell_type": "code",
   "execution_count": 52,
   "id": "6105c5b9",
   "metadata": {},
   "outputs": [],
   "source": [
    "# second method is range method using the range method we can reference the cell by inserting the cell reference address \n",
    "# such as A1 A1:B5"
   ]
  },
  {
   "cell_type": "code",
   "execution_count": 53,
   "id": "64f35812",
   "metadata": {},
   "outputs": [],
   "source": [
    "ws_sheet1.Range('D5').value = 'Cell D5'"
   ]
  },
  {
   "cell_type": "code",
   "execution_count": 54,
   "id": "ce6859b4",
   "metadata": {},
   "outputs": [
    {
     "data": {
      "text/plain": [
       "True"
      ]
     },
     "execution_count": 54,
     "metadata": {},
     "output_type": "execute_result"
    }
   ],
   "source": [
    "ws_sheet1.Cells.ClearContents()"
   ]
  },
  {
   "cell_type": "markdown",
   "id": "5125486b",
   "metadata": {},
   "source": [
    "# Write data to multiple cell"
   ]
  },
  {
   "cell_type": "code",
   "execution_count": 58,
   "id": "61d35095",
   "metadata": {},
   "outputs": [],
   "source": [
    "ws_sheet1.Range('A1:E5').value = 'AI Sciences'"
   ]
  },
  {
   "cell_type": "code",
   "execution_count": 56,
   "id": "bdd2a75e",
   "metadata": {},
   "outputs": [],
   "source": [
    "ws_sheet1.Range(\n",
    "    ws_sheet1.Cells(1,1),    #SOURCE\n",
    "    ws_sheet1.Cells(5,5)    #destination\n",
    ").value = \"hello\""
   ]
  },
  {
   "cell_type": "markdown",
   "id": "33a4a2e3",
   "metadata": {},
   "source": [
    "# Read Data"
   ]
  },
  {
   "cell_type": "code",
   "execution_count": 59,
   "id": "b191ebe4",
   "metadata": {},
   "outputs": [
    {
     "name": "stdout",
     "output_type": "stream",
     "text": [
      "(('AI Sciences', 'AI Sciences', 'AI Sciences', 'AI Sciences', 'AI Sciences'),)\n",
      "(('AI Sciences', 'AI Sciences', 'AI Sciences', 'AI Sciences', 'AI Sciences'),)\n",
      "(('AI Sciences', 'AI Sciences', 'AI Sciences', 'AI Sciences', 'AI Sciences'),)\n",
      "(('AI Sciences', 'AI Sciences', 'AI Sciences', 'AI Sciences', 'AI Sciences'),)\n",
      "(('AI Sciences', 'AI Sciences', 'AI Sciences', 'AI Sciences', 'AI Sciences'),)\n"
     ]
    }
   ],
   "source": [
    "for i in range(1,6):\n",
    "    print(ws_sheet1.Range(\n",
    "        ws_sheet1.Cells(i,1),\n",
    "        ws_sheet1.Cells(i,5))\n",
    ".value)"
   ]
  },
  {
   "cell_type": "code",
   "execution_count": null,
   "id": "7ae4c1c4",
   "metadata": {},
   "outputs": [],
   "source": [
    "wb.close(False)"
   ]
  },
  {
   "cell_type": "code",
   "execution_count": null,
   "id": "efcff4ee",
   "metadata": {},
   "outputs": [],
   "source": []
  }
 ],
 "metadata": {
  "kernelspec": {
   "display_name": "Python 3 (ipykernel)",
   "language": "python",
   "name": "python3"
  },
  "language_info": {
   "codemirror_mode": {
    "name": "ipython",
    "version": 3
   },
   "file_extension": ".py",
   "mimetype": "text/x-python",
   "name": "python",
   "nbconvert_exporter": "python",
   "pygments_lexer": "ipython3",
   "version": "3.9.7"
  }
 },
 "nbformat": 4,
 "nbformat_minor": 5
}
